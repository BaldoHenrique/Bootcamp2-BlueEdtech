{
 "cells": [
  {
   "cell_type": "code",
   "execution_count": 1,
   "metadata": {},
   "outputs": [],
   "source": [
    "import os\n",
    "import json\n",
    "import pandas as pd\n",
    "import logging\n",
    "import re\n",
    "import string\n",
    "import seaborn as sns"
   ]
  },
  {
   "cell_type": "code",
   "execution_count": 2,
   "metadata": {},
   "outputs": [],
   "source": [
    "def initialize_csv(output):\n",
    "    try:\n",
    "        with open(output, \"w\", encoding=\"UTF-8\") as fh:\n",
    "            fh.write(\"tweets; created_at; country\\n\")\n",
    "    except:\n",
    "        raise\n",
    "    else:\n",
    "        logging.info('Não foi possível criar o csv...')"
   ]
  },
  {
   "cell_type": "code",
   "execution_count": 3,
   "metadata": {},
   "outputs": [],
   "source": [
    "def clean_tweet(tweet):\n",
    "    emoj = re.compile(\"[\"\n",
    "        u\"\\U0001F600-\\U0001F64F\"  # emoticons\n",
    "        u\"\\U0001F300-\\U0001F5FF\"  # symbols & pictographs\n",
    "        u\"\\U0001F680-\\U0001F6FF\"  # transport & map symbols\n",
    "        u\"\\U0001F1E0-\\U0001F1FF\"  # flags (iOS)\n",
    "        u\"\\U00002500-\\U00002BEF\"  # chinese char\n",
    "        u\"\\U00002702-\\U000027B0\"\n",
    "        u\"\\U00002702-\\U000027B0\"\n",
    "        u\"\\U000024C2-\\U0001F251\"\n",
    "        u\"\\U0001f926-\\U0001f937\"\n",
    "        u\"\\U00010000-\\U0010ffff\"\n",
    "        u\"\\u2640-\\u2642\" \n",
    "        u\"\\u2600-\\u2B55\"\n",
    "        u\"\\u200d\"\n",
    "        u\"\\u23cf\"\n",
    "        u\"\\u23e9\"\n",
    "        u\"\\u231a\"\n",
    "        u\"\\ufe0f\"  # dingbats\n",
    "        u\"\\u3030\"\n",
    "                      \"]+\", re.UNICODE)\n",
    "    tweet = re.sub(emoj, '', tweet)\n",
    "    tweet = tweet.translate(str.maketrans('', '', string.punctuation))\n",
    "    tweet = re.sub(r'http\\S+', '', tweet)\n",
    "    \n",
    "    tweet = tweet.lower().strip().replace('\\r', '').replace('\\n', ' ')\n",
    "    return tweet"
   ]
  },
  {
   "cell_type": "code",
   "execution_count": 4,
   "metadata": {},
   "outputs": [],
   "source": [
    "def write_csv(csv_output, tweet, country):\n",
    "    try:\n",
    "        with open(csv_output, \"a\", encoding=\"UTF-8\") as output_file:\n",
    "            tweet_text = clean_tweet(tweet[\"text\"])\n",
    "            output_file.write(f'\"{tweet_text}\"; {tweet[\"created_at\"]}; {country}\\n')\n",
    "    except:\n",
    "        raise"
   ]
  },
  {
   "cell_type": "code",
   "execution_count": 5,
   "metadata": {},
   "outputs": [],
   "source": [
    "def read_json(tweet_path):\n",
    "    with open(tweet_path, \"r\", encoding='utf-8') as fh:\n",
    "        return json.load(fh)"
   ]
  },
  {
   "cell_type": "code",
   "execution_count": 6,
   "metadata": {},
   "outputs": [
    {
     "name": "stderr",
     "output_type": "stream",
     "text": [
      "ERROR:root:json in path '../dados/twitter/AR/extract_date=2020-02-14/CovidTweets_AR_20200214.json' does not contain any data.\n",
      "ERROR:root:json in path '../dados/twitter/CL/extract_date=2020-02-14/CovidTweets_CL_20200214.json' does not contain any data.\n",
      "ERROR:root:json in path '../dados/twitter/CL/extract_date=2020-02-17/CovidTweets_CL_20200217.json' does not contain any data.\n",
      "ERROR:root:json in path '../dados/twitter/EC/extract_date=2020-02-14/CovidTweets_EC_20200214.json' does not contain any data.\n",
      "ERROR:root:json in path '../dados/twitter/EC/extract_date=2020-02-18/CovidTweets_EC_20200218.json' does not contain any data.\n",
      "ERROR:root:json in path '../dados/twitter/EC/extract_date=2020-02-21/CovidTweets_EC_20200221.json' does not contain any data.\n"
     ]
    },
    {
     "data": {
      "text/html": [
       "<div>\n",
       "<style scoped>\n",
       "    .dataframe tbody tr th:only-of-type {\n",
       "        vertical-align: middle;\n",
       "    }\n",
       "\n",
       "    .dataframe tbody tr th {\n",
       "        vertical-align: top;\n",
       "    }\n",
       "\n",
       "    .dataframe thead th {\n",
       "        text-align: right;\n",
       "    }\n",
       "</style>\n",
       "<table border=\"1\" class=\"dataframe\">\n",
       "  <thead>\n",
       "    <tr style=\"text-align: right;\">\n",
       "      <th></th>\n",
       "      <th>tweet</th>\n",
       "      <th>created_at</th>\n",
       "      <th>country</th>\n",
       "    </tr>\n",
       "  </thead>\n",
       "  <tbody>\n",
       "    <tr>\n",
       "      <th>0</th>\n",
       "      <td>la oms estima que no habrá vacuna contra el co...</td>\n",
       "      <td>2020-02-11T22:42:56.000Z</td>\n",
       "      <td>AR</td>\n",
       "    </tr>\n",
       "    <tr>\n",
       "      <th>1</th>\n",
       "      <td>coronavirus covid19 la enfermedad del nuevo vi...</td>\n",
       "      <td>2020-02-11T22:02:19.000Z</td>\n",
       "      <td>AR</td>\n",
       "    </tr>\n",
       "    <tr>\n",
       "      <th>2</th>\n",
       "      <td>no digas virus chino o enfermedad china porque...</td>\n",
       "      <td>2020-02-11T18:25:08.000Z</td>\n",
       "      <td>AR</td>\n",
       "    </tr>\n",
       "    <tr>\n",
       "      <th>3</th>\n",
       "      <td>coronavirus covid19 paciente contagiada fue li...</td>\n",
       "      <td>2020-02-12T17:05:53.000Z</td>\n",
       "      <td>AR</td>\n",
       "    </tr>\n",
       "    <tr>\n",
       "      <th>4</th>\n",
       "      <td>covid19 es el nombre que la oms le ha dado al ...</td>\n",
       "      <td>2020-02-12T12:22:20.000Z</td>\n",
       "      <td>AR</td>\n",
       "    </tr>\n",
       "  </tbody>\n",
       "</table>\n",
       "</div>"
      ],
      "text/plain": [
       "                                               tweet  \\\n",
       "0  la oms estima que no habrá vacuna contra el co...   \n",
       "1  coronavirus covid19 la enfermedad del nuevo vi...   \n",
       "2  no digas virus chino o enfermedad china porque...   \n",
       "3  coronavirus covid19 paciente contagiada fue li...   \n",
       "4  covid19 es el nombre que la oms le ha dado al ...   \n",
       "\n",
       "                 created_at country  \n",
       "0  2020-02-11T22:42:56.000Z      AR  \n",
       "1  2020-02-11T22:02:19.000Z      AR  \n",
       "2  2020-02-11T18:25:08.000Z      AR  \n",
       "3  2020-02-12T17:05:53.000Z      AR  \n",
       "4  2020-02-12T12:22:20.000Z      AR  "
      ]
     },
     "execution_count": 6,
     "metadata": {},
     "output_type": "execute_result"
    }
   ],
   "source": [
    "base_df = {\n",
    "    \"tweet\": [],\n",
    "    \"created_at\": [],\n",
    "    \"country\": []\n",
    "}\n",
    "base_path = \"../dados/twitter/\"\n",
    "countries = [\"AR\", \"CL\", \"EC\", \"ES\", \"MX\"]\n",
    "\n",
    "for country in countries:\n",
    "    # csv_output = f\"tweets_{country}.csv\"\n",
    "    # initialize_csv(csv_output)\n",
    "    for root, dirs, files in os.walk(f\"{base_path}{country}/\", topdown=False):\n",
    "        for name in files:\n",
    "            tweet_path = os.path.join(root, name).replace(\"\\\\\", \"/\")\n",
    "            tweets = read_json(tweet_path)\n",
    "            if tweets[\"meta\"][\"result_count\"] > 0:\n",
    "                tweets_data = tweets[\"data\"]\n",
    "                for tweet in tweets_data:\n",
    "                    tweet[\"text\"] = clean_tweet(tweet[\"text\"])\n",
    "                    base_df[\"tweet\"].append(tweet[\"text\"])\n",
    "                    base_df[\"created_at\"].append(tweet[\"created_at\"])\n",
    "                    base_df[\"country\"].append(country)\n",
    "            else:\n",
    "                logging.error(f\"json in path '{tweet_path}' does not contain any data.\")\n",
    "                \n",
    "df = pd.DataFrame(base_df)\n",
    "df.drop_duplicates(subset=\"tweet\", inplace=True)\n",
    "df.reset_index(drop=True, inplace=True)\n",
    "# df.to_csv('twitter_data.csv', index=False)\n",
    "df.head()"
   ]
  },
  {
   "cell_type": "code",
   "execution_count": 7,
   "metadata": {},
   "outputs": [
    {
     "data": {
      "text/plain": [
       "49167     3 am y yo escuchando la melodía de dios a todo...\n",
       "43095     pasapalabra tripa  está chequeado que tripager...\n",
       "16030     pero según los tuiteros libertarios de siempre...\n",
       "113194    las autoridades sanitarias ya han autorizado e...\n",
       "18182     mi ex vio este twitt y me dijo practicamente q...\n",
       "13601     covid19 la oms aclara que las estaciones no af...\n",
       "49574     no saben si vacunarla contra el covid o contra...\n",
       "144524    2 of my colleagues were in italy north this we...\n",
       "13687          6000 casos de covid pero no hay caso con vos\n",
       "51143     no existe un tratamiento contra la parosmia no...\n",
       "205470               negativo en covid  negativo en cockbig\n",
       "152782    el covid19 accelera la conformació d’un nou or...\n",
       "70521     estimada comunidad entregamos informe covid19 ...\n",
       "212047    mientras tanto en el méxico  real en el que el...\n",
       "23055     vas a renegar para tenerme como tú víctima cov...\n",
       "122181    marialaguagua4 fernandopullah1 pedropalaciosu ...\n",
       "15072     yo  cuarentenacreativa cuarentenaargentina cua...\n",
       "185533    yo no se si prefiero coger el covid aunque ya ...\n",
       "229082    patriotas  el gobierno de rafareyes en jiutepe...\n",
       "201632    informativost5 cuando no sabéis por dónde vais...\n",
       "Name: tweet, dtype: object"
      ]
     },
     "execution_count": 7,
     "metadata": {},
     "output_type": "execute_result"
    }
   ],
   "source": [
    "df.sample(20)['tweet']"
   ]
  },
  {
   "cell_type": "code",
   "execution_count": 8,
   "metadata": {},
   "outputs": [],
   "source": [
    "from afinn import Afinn\n",
    "\n",
    "afn = Afinn()\n",
    "afinn_score = [afn.score(tweet) for tweet in df.tweet]\n",
    "sentiment = ['positive' if score > 0\n",
    "                        else 'negative' if score < 0\n",
    "                        else 'neutral'\n",
    "                        for score in afinn_score]"
   ]
  },
  {
   "cell_type": "code",
   "execution_count": 9,
   "metadata": {},
   "outputs": [],
   "source": [
    "df[\"afinn_score\"] = afinn_score\n",
    "df[\"sentiment\"] = sentiment"
   ]
  },
  {
   "cell_type": "code",
   "execution_count": 10,
   "metadata": {},
   "outputs": [
    {
     "data": {
      "text/html": [
       "<div>\n",
       "<style scoped>\n",
       "    .dataframe tbody tr th:only-of-type {\n",
       "        vertical-align: middle;\n",
       "    }\n",
       "\n",
       "    .dataframe tbody tr th {\n",
       "        vertical-align: top;\n",
       "    }\n",
       "\n",
       "    .dataframe thead th {\n",
       "        text-align: right;\n",
       "    }\n",
       "</style>\n",
       "<table border=\"1\" class=\"dataframe\">\n",
       "  <thead>\n",
       "    <tr style=\"text-align: right;\">\n",
       "      <th></th>\n",
       "      <th>tweet</th>\n",
       "      <th>created_at</th>\n",
       "      <th>country</th>\n",
       "      <th>afinn_score</th>\n",
       "      <th>sentiment</th>\n",
       "    </tr>\n",
       "  </thead>\n",
       "  <tbody>\n",
       "    <tr>\n",
       "      <th>0</th>\n",
       "      <td>la oms estima que no habrá vacuna contra el co...</td>\n",
       "      <td>2020-02-11T22:42:56.000Z</td>\n",
       "      <td>AR</td>\n",
       "      <td>-1.0</td>\n",
       "      <td>negative</td>\n",
       "    </tr>\n",
       "    <tr>\n",
       "      <th>1</th>\n",
       "      <td>coronavirus covid19 la enfermedad del nuevo vi...</td>\n",
       "      <td>2020-02-11T22:02:19.000Z</td>\n",
       "      <td>AR</td>\n",
       "      <td>0.0</td>\n",
       "      <td>neutral</td>\n",
       "    </tr>\n",
       "    <tr>\n",
       "      <th>2</th>\n",
       "      <td>no digas virus chino o enfermedad china porque...</td>\n",
       "      <td>2020-02-11T18:25:08.000Z</td>\n",
       "      <td>AR</td>\n",
       "      <td>-1.0</td>\n",
       "      <td>negative</td>\n",
       "    </tr>\n",
       "    <tr>\n",
       "      <th>3</th>\n",
       "      <td>coronavirus covid19 paciente contagiada fue li...</td>\n",
       "      <td>2020-02-12T17:05:53.000Z</td>\n",
       "      <td>AR</td>\n",
       "      <td>-2.0</td>\n",
       "      <td>negative</td>\n",
       "    </tr>\n",
       "    <tr>\n",
       "      <th>4</th>\n",
       "      <td>covid19 es el nombre que la oms le ha dado al ...</td>\n",
       "      <td>2020-02-12T12:22:20.000Z</td>\n",
       "      <td>AR</td>\n",
       "      <td>2.0</td>\n",
       "      <td>positive</td>\n",
       "    </tr>\n",
       "  </tbody>\n",
       "</table>\n",
       "</div>"
      ],
      "text/plain": [
       "                                               tweet  \\\n",
       "0  la oms estima que no habrá vacuna contra el co...   \n",
       "1  coronavirus covid19 la enfermedad del nuevo vi...   \n",
       "2  no digas virus chino o enfermedad china porque...   \n",
       "3  coronavirus covid19 paciente contagiada fue li...   \n",
       "4  covid19 es el nombre que la oms le ha dado al ...   \n",
       "\n",
       "                 created_at country  afinn_score sentiment  \n",
       "0  2020-02-11T22:42:56.000Z      AR         -1.0  negative  \n",
       "1  2020-02-11T22:02:19.000Z      AR          0.0   neutral  \n",
       "2  2020-02-11T18:25:08.000Z      AR         -1.0  negative  \n",
       "3  2020-02-12T17:05:53.000Z      AR         -2.0  negative  \n",
       "4  2020-02-12T12:22:20.000Z      AR          2.0  positive  "
      ]
     },
     "execution_count": 10,
     "metadata": {},
     "output_type": "execute_result"
    }
   ],
   "source": [
    "df.head()"
   ]
  },
  {
   "cell_type": "code",
   "execution_count": 11,
   "metadata": {},
   "outputs": [],
   "source": [
    "df.to_csv('twitter_sentiment.csv')"
   ]
  },
  {
   "cell_type": "code",
   "execution_count": 18,
   "metadata": {},
   "outputs": [
    {
     "data": {
      "text/plain": [
       "<AxesSubplot: xlabel='tweet', ylabel='sentiment'>"
      ]
     },
     "execution_count": 18,
     "metadata": {},
     "output_type": "execute_result"
    },
    {
     "data": {
      "image/png": "[encoded data removed]",
      "text/plain": [
       "<Figure size 640x480 with 1 Axes>"
      ]
     },
     "metadata": {},
     "output_type": "display_data"
    }
   ],
   "source": [
    "buffer = df.groupby(['sentiment'], group_keys=False).count()[['tweet']].reset_index()\n",
    "sns.barplot(data=buffer, x='tweet', y='sentiment')"
   ]
  },
  {
   "cell_type": "code",
   "execution_count": 19,
   "metadata": {},
   "outputs": [
    {
     "data": {
      "text/html": [
       "<div>\n",
       "<style scoped>\n",
       "    .dataframe tbody tr th:only-of-type {\n",
       "        vertical-align: middle;\n",
       "    }\n",
       "\n",
       "    .dataframe tbody tr th {\n",
       "        vertical-align: top;\n",
       "    }\n",
       "\n",
       "    .dataframe thead th {\n",
       "        text-align: right;\n",
       "    }\n",
       "</style>\n",
       "<table border=\"1\" class=\"dataframe\">\n",
       "  <thead>\n",
       "    <tr style=\"text-align: right;\">\n",
       "      <th></th>\n",
       "      <th>sentiment</th>\n",
       "      <th>tweet</th>\n",
       "    </tr>\n",
       "  </thead>\n",
       "  <tbody>\n",
       "    <tr>\n",
       "      <th>0</th>\n",
       "      <td>negative</td>\n",
       "      <td>85065</td>\n",
       "    </tr>\n",
       "    <tr>\n",
       "      <th>1</th>\n",
       "      <td>neutral</td>\n",
       "      <td>165966</td>\n",
       "    </tr>\n",
       "    <tr>\n",
       "      <th>2</th>\n",
       "      <td>positive</td>\n",
       "      <td>17239</td>\n",
       "    </tr>\n",
       "  </tbody>\n",
       "</table>\n",
       "</div>"
      ],
      "text/plain": [
       "  sentiment   tweet\n",
       "0  negative   85065\n",
       "1   neutral  165966\n",
       "2  positive   17239"
      ]
     },
     "execution_count": 19,
     "metadata": {},
     "output_type": "execute_result"
    }
   ],
   "source": [
    "buffer"
   ]
  },
  {
   "cell_type": "code",
   "execution_count": 13,
   "metadata": {},
   "outputs": [
    {
     "data": {
      "text/plain": [
       "<AxesSubplot: xlabel='tweet', ylabel='sentiment'>"
      ]
     },
     "execution_count": 13,
     "metadata": {},
     "output_type": "execute_result"
    },
    {
     "data": {
      "image/png": "[encoded data removed]",
      "text/plain": [
       "<Figure size 640x480 with 1 Axes>"
      ]
     },
     "metadata": {},
     "output_type": "display_data"
    }
   ],
   "source": [
    "buffer = df.loc[ df.country == 'AR' ].groupby(['sentiment'], group_keys=False).count()[['tweet']].reset_index()\n",
    "sns.barplot(data=buffer, x='tweet', y='sentiment')"
   ]
  },
  {
   "cell_type": "code",
   "execution_count": 14,
   "metadata": {},
   "outputs": [
    {
     "data": {
      "text/plain": [
       "<AxesSubplot: xlabel='tweet', ylabel='sentiment'>"
      ]
     },
     "execution_count": 14,
     "metadata": {},
     "output_type": "execute_result"
    },
    {
     "data": {
      "image/png": "[encoded data removed]",
      "text/plain": [
       "<Figure size 640x480 with 1 Axes>"
      ]
     },
     "metadata": {},
     "output_type": "display_data"
    }
   ],
   "source": [
    "buffer = df.loc[ df.country == 'CL' ].groupby(['sentiment'], group_keys=False).count()[['tweet']].reset_index()\n",
    "sns.barplot(data=buffer, x='tweet', y='sentiment')"
   ]
  },
  {
   "cell_type": "code",
   "execution_count": 15,
   "metadata": {},
   "outputs": [
    {
     "data": {
      "text/plain": [
       "<AxesSubplot: xlabel='tweet', ylabel='sentiment'>"
      ]
     },
     "execution_count": 15,
     "metadata": {},
     "output_type": "execute_result"
    },
    {
     "data": {
      "image/png": "[encoded data removed]",
      "text/plain": [
       "<Figure size 640x480 with 1 Axes>"
      ]
     },
     "metadata": {},
     "output_type": "display_data"
    }
   ],
   "source": [
    "buffer = df.loc[ df.country == 'EC' ].groupby(['sentiment'], group_keys=False).count()[['tweet']].reset_index()\n",
    "sns.barplot(data=buffer, x='tweet', y='sentiment')"
   ]
  },
  {
   "cell_type": "code",
   "execution_count": 16,
   "metadata": {},
   "outputs": [
    {
     "data": {
      "text/plain": [
       "<AxesSubplot: xlabel='tweet', ylabel='sentiment'>"
      ]
     },
     "execution_count": 16,
     "metadata": {},
     "output_type": "execute_result"
    },
    {
     "data": {
      "image/png": "[encoded data removed]",
      "text/plain": [
       "<Figure size 640x480 with 1 Axes>"
      ]
     },
     "metadata": {},
     "output_type": "display_data"
    }
   ],
   "source": [
    "buffer = df.loc[ df.country == 'ES' ].groupby(['sentiment'], group_keys=False).count()[['tweet']].reset_index()\n",
    "sns.barplot(data=buffer, x='tweet', y='sentiment')"
   ]
  },
  {
   "cell_type": "code",
   "execution_count": 17,
   "metadata": {},
   "outputs": [
    {
     "data": {
      "text/plain": [
       "<AxesSubplot: xlabel='tweet', ylabel='sentiment'>"
      ]
     },
     "execution_count": 17,
     "metadata": {},
     "output_type": "execute_result"
    },
    {
     "data": {
      "image/png": "[encoded data removed]",
      "text/plain": [
       "<Figure size 640x480 with 1 Axes>"
      ]
     },
     "metadata": {},
     "output_type": "display_data"
    }
   ],
   "source": [
    "buffer = df.loc[ df.country == 'MX' ].groupby(['sentiment'], group_keys=False).count()[['tweet']].reset_index()\n",
    "sns.barplot(data=buffer, x='tweet', y='sentiment')"
   ]
  }
 ],
 "metadata": {
  "kernelspec": {
   "display_name": "Python 3.10.7 ('btc2-blue-g4': venv)",
   "language": "python",
   "name": "python3"
  },
  "language_info": {
   "codemirror_mode": {
    "name": "ipython",
    "version": 3
   },
   "file_extension": ".py",
   "mimetype": "text/x-python",
   "name": "python",
   "nbconvert_exporter": "python",
   "pygments_lexer": "ipython3",
   "version": "3.10.7"
  },
  "orig_nbformat": 4,
  "vscode": {
   "interpreter": {
    "hash": "0731491c0c69dcd0be7881a26f73e5177a68251cf66c5cd8fca1a5ed8ab31173"
   }
  }
 },
 "nbformat": 4,
 "nbformat_minor": 2
}
