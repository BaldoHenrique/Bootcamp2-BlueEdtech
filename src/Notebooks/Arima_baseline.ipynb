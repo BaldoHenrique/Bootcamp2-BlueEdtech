{
 "cells": [
  {
   "attachments": {},
   "cell_type": "markdown",
   "metadata": {},
   "source": [
    "# Imports"
   ]
  },
  {
   "cell_type": "code",
   "execution_count": null,
   "metadata": {},
   "outputs": [],
   "source": [
    "import pandas as pd\n",
    "import numpy as np\n",
    "import seaborn as sns\n",
    "import matplotlib.pyplot as plt\n",
    "\n",
    "from sklearn.model_selection import train_test_split\n",
    "from sklearn.metrics import mean_absolute_error\n"
   ]
  },
  {
   "cell_type": "code",
   "execution_count": null,
   "metadata": {},
   "outputs": [],
   "source": [
    "from pmdarima import auto_arima\n",
    "from statsmodels.tsa.arima.model import ARIMA"
   ]
  },
  {
   "attachments": {},
   "cell_type": "markdown",
   "metadata": {},
   "source": [
    "#   Arquivos"
   ]
  },
  {
   "cell_type": "code",
   "execution_count": 2,
   "metadata": {},
   "outputs": [],
   "source": [
    "path_covid_19_clean = r'C:\\Users\\angel\\Desktop\\Data science\\GitHub\\GitHub\\btc2-blue-g4\\src\\Dados\\kaggle\\covid_19_clean_complete.csv'\n",
    "path_worldmeter = r'C:\\Users\\angel\\Desktop\\Data science\\GitHub\\GitHub\\btc2-blue-g4\\src\\Dados\\kaggle\\worldometer_data.csv'\n",
    "path_country_wise = r'C:\\Users\\angel\\Desktop\\Data science\\GitHub\\GitHub\\btc2-blue-g4\\src\\Dados\\kaggle\\country_wise_latest.csv'\n",
    "path_full_grouped = r'C:\\Users\\angel\\Desktop\\Data science\\GitHub\\GitHub\\btc2-blue-g4\\src\\Dados\\kaggle\\full_grouped.csv'"
   ]
  },
  {
   "attachments": {},
   "cell_type": "markdown",
   "metadata": {},
   "source": [
    "# Funções"
   ]
  },
  {
   "cell_type": "code",
   "execution_count": 3,
   "metadata": {},
   "outputs": [],
   "source": [
    "'''\n",
    "Input:\n",
    "        3 parametros, um para cada um dos 3 datasets usados para a junção em apenas um, dataset covid_19_clean, worldmeter e full_grouped;\n",
    "\n",
    "Função:\n",
    "        Junta os 3 em duas etapas, uma criando um df3, aonde baseado no pais do dataset covid_19_clean, \n",
    "        ele recebe as informações de continente e população, vindos\n",
    "        do dataset worldmeter.\n",
    "\n",
    "        Para gerar o df4, o df3 é juntado com o df full_grouped, recebendo \"New cases\",\"New deaths\".\n",
    "\n",
    "        Ainda são removidos algumas colunas e criadas as colunas , \"month e \"day\".\n",
    "\n",
    "        Colunas são reordenadas.\n",
    "\n",
    "output: \n",
    "        Retorna o df final.\n",
    "\n",
    "'''\n",
    "\n",
    "def gerar_df(path_covid_19_clean,path_worldmeter, path_full_grouped):\n",
    "\n",
    "    df0 = pd.read_csv(path_covid_19_clean)\n",
    "    df1 = pd.read_csv(path_worldmeter)\n",
    "    df2 = pd.read_csv(path_full_grouped )\n",
    "\n",
    "    df3 = pd.merge(df0, df1[[\"Continent\",\"Population\",\"Country/Region\"]], on=[\"Country/Region\"], how=\"left\")\n",
    "    \n",
    "    df4 = pd.merge(df3, df2[[\"New cases\",\"New deaths\",\"Date\", \"Country/Region\"]], on=[\"Date\",\"Country/Region\" ], how=\"left\")\n",
    "\n",
    "    df4= df4.drop([\"Lat\",\"Long\", \n",
    "                   \"Province/State\", \n",
    "                   \"WHO Region\"], axis=1)\n",
    "\n",
    "    \n",
    "\n",
    "    \n",
    "    df4[\"Date\"] = pd.to_datetime(df4[\"Date\"])\n",
    "\n",
    "    df4[\"day\"] = df4['Date'].map(lambda x: x.day)\n",
    "    df4[\"month\"] = df4['Date'].map(lambda x: x.month)\n",
    "\n",
    "    df4 = df4[[\"Country/Region\",\n",
    "            \"Continent\", \n",
    "            \"Population\",\n",
    "            \"Date\", \n",
    "            \"month\",\n",
    "            \"day\", \n",
    "            \"Confirmed\", \n",
    "            \"Deaths\", \n",
    "            \"Recovered\", \"Active\", \n",
    "            \"New cases\", \n",
    "            \"New deaths\"]]\n",
    "\n",
    "    df4.rename(columns={\n",
    "    'Province/State': 'province_state',\n",
    "    'Country/Region': 'country_region',\n",
    "    },inplace=True)\n",
    "\n",
    "    df4.columns = df4.columns.str.lower()\n",
    "\n",
    "           \n",
    "    return df4\n",
    "    \n"
   ]
  },
  {
   "cell_type": "code",
   "execution_count": 71,
   "metadata": {},
   "outputs": [],
   "source": [
    "'''\n",
    "Função que recebe o dataset e adiciona os continentes faltando e a população nos paises,\n",
    "no final adiciona a deathrate para cada 100k habitantes\n",
    "'''\n",
    "\n",
    "def filling_nulls(df):\n",
    "     \n",
    "\n",
    "    if df[\"country_region\"] == 'Brunei':\n",
    "       df[\"continent\"] = 'Asia' \n",
    "       df[\"population\"] = 460345\n",
    "\n",
    "    elif df[\"country_region\"] == 'Central African Republic':\n",
    "         df[\"continent\"] = 'Africa' \n",
    "         df[\"population\"] = 5454533\n",
    "\n",
    "    elif df[\"country_region\"] == 'China':\n",
    "         df[\"continent\"] = 'Asia' \n",
    "         df[\"population\"] = 1411778724\n",
    "          \n",
    "    elif df[\"country_region\"] == 'Congo (Brazzaville)':\n",
    "         df[\"continent\"] = 'Africa' \n",
    "         df[\"population\"] = 5518000\n",
    "\n",
    "    elif df[\"country_region\"] == 'Congo (Kinshasa)':\n",
    "         df[\"continent\"] = 'Africa' \n",
    "         df[\"population\"] = 89560000\n",
    "\n",
    "    elif df[\"country_region\"] == \"Cote d'Ivoire\":\n",
    "         df[\"continent\"] = 'Africa' \n",
    "         df[\"population\"] = 27050000\n",
    "\n",
    "    elif df[\"country_region\"] == 'Holy See':\n",
    "         df[\"continent\"] = 'Europe' \n",
    "         df[\"population\"] = 801\n",
    "         \n",
    "    elif df[\"country_region\"] == 'South Korea':\n",
    "         df[\"continent\"] = 'Asia' \n",
    "         df[\"population\"] = 51269185\n",
    "\n",
    "    elif df[\"country_region\"] == 'Saint Vincent and the Grenadines':\n",
    "         df[\"continent\"] = 'North America' \n",
    "         df[\"population\"] = 111269\n",
    "\n",
    "    elif df[\"country_region\"] == 'Taiwan*':\n",
    "         df[\"continent\"] = 'Asia' \n",
    "         df[\"population\"] = 23570000\n",
    "\n",
    "    elif df[\"country_region\"] == 'United Arab Emirates':\n",
    "         df[\"continent\"] = 'Asia' \n",
    "         df[\"population\"] = 9890000\n",
    "\n",
    "    elif df[\"country_region\"] == 'United Kingdom':\n",
    "         df[\"continent\"] = 'Europe' \n",
    "         df[\"population\"] = 67330000\n",
    "\n",
    "    elif df[\"country_region\"] == 'US':\n",
    "         df[\"continent\"] = 'North America' \n",
    "         df[\"population\"] = 331900000\n",
    "         \n",
    "    elif df[\"country_region\"] == 'West Bank and Gaza':\n",
    "         df[\"continent\"] = 'Asia' \n",
    "         df[\"population\"] = 5101414 \n",
    "    \n",
    "    elif df[\"country_region\"] == 'Kosovo':\n",
    "         df[\"continent\"] = 'Asia' \n",
    "         df[\"population\"] = 1810000\n",
    "\n",
    "    elif df[\"country_region\"] == 'Burma':\n",
    "         df[\"continent\"] = 'Asia' \n",
    "         df[\"population\"] = 54410000\n",
    "     \n",
    "    df[\"death / 100.000 hab\"] = (df[\"deaths\"]/df[\"population\"])*100000\n",
    "  \n",
    "         \n",
    "    return df"
   ]
  },
  {
   "cell_type": "code",
   "execution_count": 5,
   "metadata": {},
   "outputs": [],
   "source": [
    "df = gerar_df(path_covid_19_clean,path_worldmeter, path_full_grouped)"
   ]
  },
  {
   "cell_type": "code",
   "execution_count": 6,
   "metadata": {},
   "outputs": [],
   "source": [
    "df = df.apply(lambda x : filling_nulls(x), axis=1) "
   ]
  },
  {
   "cell_type": "code",
   "execution_count": 7,
   "metadata": {},
   "outputs": [
    {
     "data": {
      "text/html": [
       "<div>\n",
       "<style scoped>\n",
       "    .dataframe tbody tr th:only-of-type {\n",
       "        vertical-align: middle;\n",
       "    }\n",
       "\n",
       "    .dataframe tbody tr th {\n",
       "        vertical-align: top;\n",
       "    }\n",
       "\n",
       "    .dataframe thead th {\n",
       "        text-align: right;\n",
       "    }\n",
       "</style>\n",
       "<table border=\"1\" class=\"dataframe\">\n",
       "  <thead>\n",
       "    <tr style=\"text-align: right;\">\n",
       "      <th></th>\n",
       "      <th>country_region</th>\n",
       "      <th>continent</th>\n",
       "      <th>population</th>\n",
       "      <th>date</th>\n",
       "      <th>month</th>\n",
       "      <th>day</th>\n",
       "      <th>confirmed</th>\n",
       "      <th>deaths</th>\n",
       "      <th>recovered</th>\n",
       "      <th>active</th>\n",
       "      <th>new cases</th>\n",
       "      <th>new deaths</th>\n",
       "      <th>death / 100.000 hab</th>\n",
       "    </tr>\n",
       "  </thead>\n",
       "  <tbody>\n",
       "    <tr>\n",
       "      <th>0</th>\n",
       "      <td>Afghanistan</td>\n",
       "      <td>Asia</td>\n",
       "      <td>39009447.0</td>\n",
       "      <td>2020-01-22</td>\n",
       "      <td>1</td>\n",
       "      <td>22</td>\n",
       "      <td>0</td>\n",
       "      <td>0</td>\n",
       "      <td>0</td>\n",
       "      <td>0</td>\n",
       "      <td>0</td>\n",
       "      <td>0</td>\n",
       "      <td>0.0</td>\n",
       "    </tr>\n",
       "    <tr>\n",
       "      <th>1</th>\n",
       "      <td>Albania</td>\n",
       "      <td>Europe</td>\n",
       "      <td>2877470.0</td>\n",
       "      <td>2020-01-22</td>\n",
       "      <td>1</td>\n",
       "      <td>22</td>\n",
       "      <td>0</td>\n",
       "      <td>0</td>\n",
       "      <td>0</td>\n",
       "      <td>0</td>\n",
       "      <td>0</td>\n",
       "      <td>0</td>\n",
       "      <td>0.0</td>\n",
       "    </tr>\n",
       "    <tr>\n",
       "      <th>2</th>\n",
       "      <td>Algeria</td>\n",
       "      <td>Africa</td>\n",
       "      <td>43926079.0</td>\n",
       "      <td>2020-01-22</td>\n",
       "      <td>1</td>\n",
       "      <td>22</td>\n",
       "      <td>0</td>\n",
       "      <td>0</td>\n",
       "      <td>0</td>\n",
       "      <td>0</td>\n",
       "      <td>0</td>\n",
       "      <td>0</td>\n",
       "      <td>0.0</td>\n",
       "    </tr>\n",
       "    <tr>\n",
       "      <th>3</th>\n",
       "      <td>Andorra</td>\n",
       "      <td>Europe</td>\n",
       "      <td>77278.0</td>\n",
       "      <td>2020-01-22</td>\n",
       "      <td>1</td>\n",
       "      <td>22</td>\n",
       "      <td>0</td>\n",
       "      <td>0</td>\n",
       "      <td>0</td>\n",
       "      <td>0</td>\n",
       "      <td>0</td>\n",
       "      <td>0</td>\n",
       "      <td>0.0</td>\n",
       "    </tr>\n",
       "    <tr>\n",
       "      <th>4</th>\n",
       "      <td>Angola</td>\n",
       "      <td>Africa</td>\n",
       "      <td>32956300.0</td>\n",
       "      <td>2020-01-22</td>\n",
       "      <td>1</td>\n",
       "      <td>22</td>\n",
       "      <td>0</td>\n",
       "      <td>0</td>\n",
       "      <td>0</td>\n",
       "      <td>0</td>\n",
       "      <td>0</td>\n",
       "      <td>0</td>\n",
       "      <td>0.0</td>\n",
       "    </tr>\n",
       "  </tbody>\n",
       "</table>\n",
       "</div>"
      ],
      "text/plain": [
       "  country_region continent  population       date  month  day  confirmed  \\\n",
       "0    Afghanistan      Asia  39009447.0 2020-01-22      1   22          0   \n",
       "1        Albania    Europe   2877470.0 2020-01-22      1   22          0   \n",
       "2        Algeria    Africa  43926079.0 2020-01-22      1   22          0   \n",
       "3        Andorra    Europe     77278.0 2020-01-22      1   22          0   \n",
       "4         Angola    Africa  32956300.0 2020-01-22      1   22          0   \n",
       "\n",
       "   deaths  recovered  active  new cases  new deaths  death / 100.000 hab  \n",
       "0       0          0       0          0           0                  0.0  \n",
       "1       0          0       0          0           0                  0.0  \n",
       "2       0          0       0          0           0                  0.0  \n",
       "3       0          0       0          0           0                  0.0  \n",
       "4       0          0       0          0           0                  0.0  "
      ]
     },
     "execution_count": 7,
     "metadata": {},
     "output_type": "execute_result"
    }
   ],
   "source": [
    "df.head()"
   ]
  },
  {
   "attachments": {},
   "cell_type": "markdown",
   "metadata": {},
   "source": [
    "# Visualização"
   ]
  },
  {
   "cell_type": "code",
   "execution_count": 8,
   "metadata": {},
   "outputs": [],
   "source": [
    "country= df.loc[df.country_region == \"Spain\"]"
   ]
  },
  {
   "cell_type": "code",
   "execution_count": 9,
   "metadata": {},
   "outputs": [
    {
     "data": {
      "text/html": [
       "<div>\n",
       "<style scoped>\n",
       "    .dataframe tbody tr th:only-of-type {\n",
       "        vertical-align: middle;\n",
       "    }\n",
       "\n",
       "    .dataframe tbody tr th {\n",
       "        vertical-align: top;\n",
       "    }\n",
       "\n",
       "    .dataframe thead th {\n",
       "        text-align: right;\n",
       "    }\n",
       "</style>\n",
       "<table border=\"1\" class=\"dataframe\">\n",
       "  <thead>\n",
       "    <tr style=\"text-align: right;\">\n",
       "      <th></th>\n",
       "      <th>country_region</th>\n",
       "      <th>continent</th>\n",
       "      <th>population</th>\n",
       "      <th>date</th>\n",
       "      <th>month</th>\n",
       "      <th>day</th>\n",
       "      <th>confirmed</th>\n",
       "      <th>deaths</th>\n",
       "      <th>recovered</th>\n",
       "      <th>active</th>\n",
       "      <th>new cases</th>\n",
       "      <th>new deaths</th>\n",
       "      <th>death / 100.000 hab</th>\n",
       "    </tr>\n",
       "  </thead>\n",
       "  <tbody>\n",
       "    <tr>\n",
       "      <th>199</th>\n",
       "      <td>Spain</td>\n",
       "      <td>Europe</td>\n",
       "      <td>46756648.0</td>\n",
       "      <td>2020-01-22</td>\n",
       "      <td>1</td>\n",
       "      <td>22</td>\n",
       "      <td>0</td>\n",
       "      <td>0</td>\n",
       "      <td>0</td>\n",
       "      <td>0</td>\n",
       "      <td>0</td>\n",
       "      <td>0</td>\n",
       "      <td>0.0</td>\n",
       "    </tr>\n",
       "    <tr>\n",
       "      <th>460</th>\n",
       "      <td>Spain</td>\n",
       "      <td>Europe</td>\n",
       "      <td>46756648.0</td>\n",
       "      <td>2020-01-23</td>\n",
       "      <td>1</td>\n",
       "      <td>23</td>\n",
       "      <td>0</td>\n",
       "      <td>0</td>\n",
       "      <td>0</td>\n",
       "      <td>0</td>\n",
       "      <td>0</td>\n",
       "      <td>0</td>\n",
       "      <td>0.0</td>\n",
       "    </tr>\n",
       "    <tr>\n",
       "      <th>721</th>\n",
       "      <td>Spain</td>\n",
       "      <td>Europe</td>\n",
       "      <td>46756648.0</td>\n",
       "      <td>2020-01-24</td>\n",
       "      <td>1</td>\n",
       "      <td>24</td>\n",
       "      <td>0</td>\n",
       "      <td>0</td>\n",
       "      <td>0</td>\n",
       "      <td>0</td>\n",
       "      <td>0</td>\n",
       "      <td>0</td>\n",
       "      <td>0.0</td>\n",
       "    </tr>\n",
       "    <tr>\n",
       "      <th>982</th>\n",
       "      <td>Spain</td>\n",
       "      <td>Europe</td>\n",
       "      <td>46756648.0</td>\n",
       "      <td>2020-01-25</td>\n",
       "      <td>1</td>\n",
       "      <td>25</td>\n",
       "      <td>0</td>\n",
       "      <td>0</td>\n",
       "      <td>0</td>\n",
       "      <td>0</td>\n",
       "      <td>0</td>\n",
       "      <td>0</td>\n",
       "      <td>0.0</td>\n",
       "    </tr>\n",
       "    <tr>\n",
       "      <th>1243</th>\n",
       "      <td>Spain</td>\n",
       "      <td>Europe</td>\n",
       "      <td>46756648.0</td>\n",
       "      <td>2020-01-26</td>\n",
       "      <td>1</td>\n",
       "      <td>26</td>\n",
       "      <td>0</td>\n",
       "      <td>0</td>\n",
       "      <td>0</td>\n",
       "      <td>0</td>\n",
       "      <td>0</td>\n",
       "      <td>0</td>\n",
       "      <td>0.0</td>\n",
       "    </tr>\n",
       "  </tbody>\n",
       "</table>\n",
       "</div>"
      ],
      "text/plain": [
       "     country_region continent  population       date  month  day  confirmed  \\\n",
       "199           Spain    Europe  46756648.0 2020-01-22      1   22          0   \n",
       "460           Spain    Europe  46756648.0 2020-01-23      1   23          0   \n",
       "721           Spain    Europe  46756648.0 2020-01-24      1   24          0   \n",
       "982           Spain    Europe  46756648.0 2020-01-25      1   25          0   \n",
       "1243          Spain    Europe  46756648.0 2020-01-26      1   26          0   \n",
       "\n",
       "      deaths  recovered  active  new cases  new deaths  death / 100.000 hab  \n",
       "199        0          0       0          0           0                  0.0  \n",
       "460        0          0       0          0           0                  0.0  \n",
       "721        0          0       0          0           0                  0.0  \n",
       "982        0          0       0          0           0                  0.0  \n",
       "1243       0          0       0          0           0                  0.0  "
      ]
     },
     "execution_count": 9,
     "metadata": {},
     "output_type": "execute_result"
    }
   ],
   "source": [
    "country.head()"
   ]
  },
  {
   "cell_type": "code",
   "execution_count": 29,
   "metadata": {},
   "outputs": [
    {
     "data": {
      "text/html": [
       "<div>\n",
       "<style scoped>\n",
       "    .dataframe tbody tr th:only-of-type {\n",
       "        vertical-align: middle;\n",
       "    }\n",
       "\n",
       "    .dataframe tbody tr th {\n",
       "        vertical-align: top;\n",
       "    }\n",
       "\n",
       "    .dataframe thead th {\n",
       "        text-align: right;\n",
       "    }\n",
       "</style>\n",
       "<table border=\"1\" class=\"dataframe\">\n",
       "  <thead>\n",
       "    <tr style=\"text-align: right;\">\n",
       "      <th></th>\n",
       "      <th>country_region</th>\n",
       "      <th>continent</th>\n",
       "      <th>population</th>\n",
       "      <th>date</th>\n",
       "      <th>month</th>\n",
       "      <th>day</th>\n",
       "      <th>confirmed</th>\n",
       "      <th>deaths</th>\n",
       "      <th>recovered</th>\n",
       "      <th>active</th>\n",
       "      <th>new cases</th>\n",
       "      <th>new deaths</th>\n",
       "      <th>death / 100.000 hab</th>\n",
       "    </tr>\n",
       "  </thead>\n",
       "  <tbody>\n",
       "    <tr>\n",
       "      <th>47962</th>\n",
       "      <td>Spain</td>\n",
       "      <td>Europe</td>\n",
       "      <td>46756648.0</td>\n",
       "      <td>2020-07-23</td>\n",
       "      <td>7</td>\n",
       "      <td>23</td>\n",
       "      <td>270166</td>\n",
       "      <td>28429</td>\n",
       "      <td>150376</td>\n",
       "      <td>91361</td>\n",
       "      <td>2615</td>\n",
       "      <td>3</td>\n",
       "      <td>60.802049</td>\n",
       "    </tr>\n",
       "    <tr>\n",
       "      <th>48223</th>\n",
       "      <td>Spain</td>\n",
       "      <td>Europe</td>\n",
       "      <td>46756648.0</td>\n",
       "      <td>2020-07-24</td>\n",
       "      <td>7</td>\n",
       "      <td>24</td>\n",
       "      <td>272421</td>\n",
       "      <td>28432</td>\n",
       "      <td>150376</td>\n",
       "      <td>93613</td>\n",
       "      <td>2255</td>\n",
       "      <td>3</td>\n",
       "      <td>60.808465</td>\n",
       "    </tr>\n",
       "    <tr>\n",
       "      <th>48484</th>\n",
       "      <td>Spain</td>\n",
       "      <td>Europe</td>\n",
       "      <td>46756648.0</td>\n",
       "      <td>2020-07-25</td>\n",
       "      <td>7</td>\n",
       "      <td>25</td>\n",
       "      <td>272421</td>\n",
       "      <td>28432</td>\n",
       "      <td>150376</td>\n",
       "      <td>93613</td>\n",
       "      <td>0</td>\n",
       "      <td>0</td>\n",
       "      <td>60.808465</td>\n",
       "    </tr>\n",
       "    <tr>\n",
       "      <th>48745</th>\n",
       "      <td>Spain</td>\n",
       "      <td>Europe</td>\n",
       "      <td>46756648.0</td>\n",
       "      <td>2020-07-26</td>\n",
       "      <td>7</td>\n",
       "      <td>26</td>\n",
       "      <td>272421</td>\n",
       "      <td>28432</td>\n",
       "      <td>150376</td>\n",
       "      <td>93613</td>\n",
       "      <td>0</td>\n",
       "      <td>0</td>\n",
       "      <td>60.808465</td>\n",
       "    </tr>\n",
       "    <tr>\n",
       "      <th>49006</th>\n",
       "      <td>Spain</td>\n",
       "      <td>Europe</td>\n",
       "      <td>46756648.0</td>\n",
       "      <td>2020-07-27</td>\n",
       "      <td>7</td>\n",
       "      <td>27</td>\n",
       "      <td>272421</td>\n",
       "      <td>28432</td>\n",
       "      <td>150376</td>\n",
       "      <td>93613</td>\n",
       "      <td>0</td>\n",
       "      <td>0</td>\n",
       "      <td>60.808465</td>\n",
       "    </tr>\n",
       "  </tbody>\n",
       "</table>\n",
       "</div>"
      ],
      "text/plain": [
       "      country_region continent  population       date  month  day  confirmed  \\\n",
       "47962          Spain    Europe  46756648.0 2020-07-23      7   23     270166   \n",
       "48223          Spain    Europe  46756648.0 2020-07-24      7   24     272421   \n",
       "48484          Spain    Europe  46756648.0 2020-07-25      7   25     272421   \n",
       "48745          Spain    Europe  46756648.0 2020-07-26      7   26     272421   \n",
       "49006          Spain    Europe  46756648.0 2020-07-27      7   27     272421   \n",
       "\n",
       "       deaths  recovered  active  new cases  new deaths  death / 100.000 hab  \n",
       "47962   28429     150376   91361       2615           3            60.802049  \n",
       "48223   28432     150376   93613       2255           3            60.808465  \n",
       "48484   28432     150376   93613          0           0            60.808465  \n",
       "48745   28432     150376   93613          0           0            60.808465  \n",
       "49006   28432     150376   93613          0           0            60.808465  "
      ]
     },
     "execution_count": 29,
     "metadata": {},
     "output_type": "execute_result"
    }
   ],
   "source": [
    "country.tail()"
   ]
  },
  {
   "cell_type": "code",
   "execution_count": 10,
   "metadata": {},
   "outputs": [
    {
     "data": {
      "text/plain": [
       "<AxesSubplot: xlabel='date', ylabel='deaths'>"
      ]
     },
     "execution_count": 10,
     "metadata": {},
     "output_type": "execute_result"
    },
    {
     "data": {
      "image/png": "[encoded data removed]",
      "text/plain": [
       "<Figure size 640x480 with 1 Axes>"
      ]
     },
     "metadata": {},
     "output_type": "display_data"
    }
   ],
   "source": [
    "sns.lineplot(x=\"date\", y=\"deaths\", hue=\"country_region\", data=country)"
   ]
  },
  {
   "cell_type": "code",
   "execution_count": 11,
   "metadata": {},
   "outputs": [
    {
     "name": "stdout",
     "output_type": "stream",
     "text": [
      "<class 'pandas.core.series.Series'>\n",
      "Int64Index: 188 entries, 199 to 49006\n",
      "Series name: date\n",
      "Non-Null Count  Dtype         \n",
      "--------------  -----         \n",
      "188 non-null    datetime64[ns]\n",
      "dtypes: datetime64[ns](1)\n",
      "memory usage: 2.9 KB\n"
     ]
    }
   ],
   "source": [
    "country[\"date\"].info()"
   ]
  },
  {
   "attachments": {},
   "cell_type": "markdown",
   "metadata": {},
   "source": [
    "# Split"
   ]
  },
  {
   "cell_type": "code",
   "execution_count": 16,
   "metadata": {},
   "outputs": [
    {
     "data": {
      "text/html": [
       "<div>\n",
       "<style scoped>\n",
       "    .dataframe tbody tr th:only-of-type {\n",
       "        vertical-align: middle;\n",
       "    }\n",
       "\n",
       "    .dataframe tbody tr th {\n",
       "        vertical-align: top;\n",
       "    }\n",
       "\n",
       "    .dataframe thead th {\n",
       "        text-align: right;\n",
       "    }\n",
       "</style>\n",
       "<table border=\"1\" class=\"dataframe\">\n",
       "  <thead>\n",
       "    <tr style=\"text-align: right;\">\n",
       "      <th></th>\n",
       "      <th>country_region</th>\n",
       "      <th>continent</th>\n",
       "      <th>population</th>\n",
       "      <th>date</th>\n",
       "      <th>month</th>\n",
       "      <th>day</th>\n",
       "      <th>confirmed</th>\n",
       "      <th>deaths</th>\n",
       "      <th>recovered</th>\n",
       "      <th>active</th>\n",
       "      <th>new cases</th>\n",
       "      <th>new deaths</th>\n",
       "      <th>death / 100.000 hab</th>\n",
       "    </tr>\n",
       "  </thead>\n",
       "  <tbody>\n",
       "    <tr>\n",
       "      <th>199</th>\n",
       "      <td>Spain</td>\n",
       "      <td>Europe</td>\n",
       "      <td>46756648.0</td>\n",
       "      <td>2020-01-22</td>\n",
       "      <td>1</td>\n",
       "      <td>22</td>\n",
       "      <td>0</td>\n",
       "      <td>0</td>\n",
       "      <td>0</td>\n",
       "      <td>0</td>\n",
       "      <td>0</td>\n",
       "      <td>0</td>\n",
       "      <td>0.000000</td>\n",
       "    </tr>\n",
       "    <tr>\n",
       "      <th>460</th>\n",
       "      <td>Spain</td>\n",
       "      <td>Europe</td>\n",
       "      <td>46756648.0</td>\n",
       "      <td>2020-01-23</td>\n",
       "      <td>1</td>\n",
       "      <td>23</td>\n",
       "      <td>0</td>\n",
       "      <td>0</td>\n",
       "      <td>0</td>\n",
       "      <td>0</td>\n",
       "      <td>0</td>\n",
       "      <td>0</td>\n",
       "      <td>0.000000</td>\n",
       "    </tr>\n",
       "    <tr>\n",
       "      <th>721</th>\n",
       "      <td>Spain</td>\n",
       "      <td>Europe</td>\n",
       "      <td>46756648.0</td>\n",
       "      <td>2020-01-24</td>\n",
       "      <td>1</td>\n",
       "      <td>24</td>\n",
       "      <td>0</td>\n",
       "      <td>0</td>\n",
       "      <td>0</td>\n",
       "      <td>0</td>\n",
       "      <td>0</td>\n",
       "      <td>0</td>\n",
       "      <td>0.000000</td>\n",
       "    </tr>\n",
       "    <tr>\n",
       "      <th>982</th>\n",
       "      <td>Spain</td>\n",
       "      <td>Europe</td>\n",
       "      <td>46756648.0</td>\n",
       "      <td>2020-01-25</td>\n",
       "      <td>1</td>\n",
       "      <td>25</td>\n",
       "      <td>0</td>\n",
       "      <td>0</td>\n",
       "      <td>0</td>\n",
       "      <td>0</td>\n",
       "      <td>0</td>\n",
       "      <td>0</td>\n",
       "      <td>0.000000</td>\n",
       "    </tr>\n",
       "    <tr>\n",
       "      <th>1243</th>\n",
       "      <td>Spain</td>\n",
       "      <td>Europe</td>\n",
       "      <td>46756648.0</td>\n",
       "      <td>2020-01-26</td>\n",
       "      <td>1</td>\n",
       "      <td>26</td>\n",
       "      <td>0</td>\n",
       "      <td>0</td>\n",
       "      <td>0</td>\n",
       "      <td>0</td>\n",
       "      <td>0</td>\n",
       "      <td>0</td>\n",
       "      <td>0.000000</td>\n",
       "    </tr>\n",
       "    <tr>\n",
       "      <th>...</th>\n",
       "      <td>...</td>\n",
       "      <td>...</td>\n",
       "      <td>...</td>\n",
       "      <td>...</td>\n",
       "      <td>...</td>\n",
       "      <td>...</td>\n",
       "      <td>...</td>\n",
       "      <td>...</td>\n",
       "      <td>...</td>\n",
       "      <td>...</td>\n",
       "      <td>...</td>\n",
       "      <td>...</td>\n",
       "      <td>...</td>\n",
       "    </tr>\n",
       "    <tr>\n",
       "      <th>47962</th>\n",
       "      <td>Spain</td>\n",
       "      <td>Europe</td>\n",
       "      <td>46756648.0</td>\n",
       "      <td>2020-07-23</td>\n",
       "      <td>7</td>\n",
       "      <td>23</td>\n",
       "      <td>270166</td>\n",
       "      <td>28429</td>\n",
       "      <td>150376</td>\n",
       "      <td>91361</td>\n",
       "      <td>2615</td>\n",
       "      <td>3</td>\n",
       "      <td>60.802049</td>\n",
       "    </tr>\n",
       "    <tr>\n",
       "      <th>48223</th>\n",
       "      <td>Spain</td>\n",
       "      <td>Europe</td>\n",
       "      <td>46756648.0</td>\n",
       "      <td>2020-07-24</td>\n",
       "      <td>7</td>\n",
       "      <td>24</td>\n",
       "      <td>272421</td>\n",
       "      <td>28432</td>\n",
       "      <td>150376</td>\n",
       "      <td>93613</td>\n",
       "      <td>2255</td>\n",
       "      <td>3</td>\n",
       "      <td>60.808465</td>\n",
       "    </tr>\n",
       "    <tr>\n",
       "      <th>48484</th>\n",
       "      <td>Spain</td>\n",
       "      <td>Europe</td>\n",
       "      <td>46756648.0</td>\n",
       "      <td>2020-07-25</td>\n",
       "      <td>7</td>\n",
       "      <td>25</td>\n",
       "      <td>272421</td>\n",
       "      <td>28432</td>\n",
       "      <td>150376</td>\n",
       "      <td>93613</td>\n",
       "      <td>0</td>\n",
       "      <td>0</td>\n",
       "      <td>60.808465</td>\n",
       "    </tr>\n",
       "    <tr>\n",
       "      <th>48745</th>\n",
       "      <td>Spain</td>\n",
       "      <td>Europe</td>\n",
       "      <td>46756648.0</td>\n",
       "      <td>2020-07-26</td>\n",
       "      <td>7</td>\n",
       "      <td>26</td>\n",
       "      <td>272421</td>\n",
       "      <td>28432</td>\n",
       "      <td>150376</td>\n",
       "      <td>93613</td>\n",
       "      <td>0</td>\n",
       "      <td>0</td>\n",
       "      <td>60.808465</td>\n",
       "    </tr>\n",
       "    <tr>\n",
       "      <th>49006</th>\n",
       "      <td>Spain</td>\n",
       "      <td>Europe</td>\n",
       "      <td>46756648.0</td>\n",
       "      <td>2020-07-27</td>\n",
       "      <td>7</td>\n",
       "      <td>27</td>\n",
       "      <td>272421</td>\n",
       "      <td>28432</td>\n",
       "      <td>150376</td>\n",
       "      <td>93613</td>\n",
       "      <td>0</td>\n",
       "      <td>0</td>\n",
       "      <td>60.808465</td>\n",
       "    </tr>\n",
       "  </tbody>\n",
       "</table>\n",
       "<p>188 rows × 13 columns</p>\n",
       "</div>"
      ],
      "text/plain": [
       "      country_region continent  population       date  month  day  confirmed  \\\n",
       "199            Spain    Europe  46756648.0 2020-01-22      1   22          0   \n",
       "460            Spain    Europe  46756648.0 2020-01-23      1   23          0   \n",
       "721            Spain    Europe  46756648.0 2020-01-24      1   24          0   \n",
       "982            Spain    Europe  46756648.0 2020-01-25      1   25          0   \n",
       "1243           Spain    Europe  46756648.0 2020-01-26      1   26          0   \n",
       "...              ...       ...         ...        ...    ...  ...        ...   \n",
       "47962          Spain    Europe  46756648.0 2020-07-23      7   23     270166   \n",
       "48223          Spain    Europe  46756648.0 2020-07-24      7   24     272421   \n",
       "48484          Spain    Europe  46756648.0 2020-07-25      7   25     272421   \n",
       "48745          Spain    Europe  46756648.0 2020-07-26      7   26     272421   \n",
       "49006          Spain    Europe  46756648.0 2020-07-27      7   27     272421   \n",
       "\n",
       "       deaths  recovered  active  new cases  new deaths  death / 100.000 hab  \n",
       "199         0          0       0          0           0             0.000000  \n",
       "460         0          0       0          0           0             0.000000  \n",
       "721         0          0       0          0           0             0.000000  \n",
       "982         0          0       0          0           0             0.000000  \n",
       "1243        0          0       0          0           0             0.000000  \n",
       "...       ...        ...     ...        ...         ...                  ...  \n",
       "47962   28429     150376   91361       2615           3            60.802049  \n",
       "48223   28432     150376   93613       2255           3            60.808465  \n",
       "48484   28432     150376   93613          0           0            60.808465  \n",
       "48745   28432     150376   93613          0           0            60.808465  \n",
       "49006   28432     150376   93613          0           0            60.808465  \n",
       "\n",
       "[188 rows x 13 columns]"
      ]
     },
     "execution_count": 16,
     "metadata": {},
     "output_type": "execute_result"
    }
   ],
   "source": [
    "country"
   ]
  },
  {
   "cell_type": "code",
   "execution_count": 33,
   "metadata": {},
   "outputs": [],
   "source": [
    "train = country.loc[country.month < 7] #Treinando com dados anteriores a julho\n",
    "test = country.loc[country.month == 7] #comparando com os valores reais de julho"
   ]
  },
  {
   "cell_type": "code",
   "execution_count": 52,
   "metadata": {},
   "outputs": [
    {
     "data": {
      "text/plain": [
       "(27, 13)"
      ]
     },
     "execution_count": 52,
     "metadata": {},
     "output_type": "execute_result"
    }
   ],
   "source": [
    "#julho possui 27 dias no dataset\n",
    "\n",
    "test.shape"
   ]
  },
  {
   "cell_type": "code",
   "execution_count": 72,
   "metadata": {},
   "outputs": [],
   "source": [
    "\n",
    "ytrain=train[\"deaths\"] \n",
    "ytest=test[\"deaths\"] \n",
    "\n",
    "ytrain2=train[\"confirmed\"] \n",
    "ytest2=test[\"confirmed\"] \n",
    "\n",
    "xtrain=train[\"date\"]\n",
    "xtest=test[\"date\"]"
   ]
  },
  {
   "attachments": {},
   "cell_type": "markdown",
   "metadata": {},
   "source": [
    "# Train"
   ]
  },
  {
   "cell_type": "code",
   "execution_count": 48,
   "metadata": {},
   "outputs": [
    {
     "name": "stdout",
     "output_type": "stream",
     "text": [
      "Performing stepwise search to minimize aic\n",
      " ARIMA(2,2,2)(0,0,0)[0]             : AIC=2189.941, Time=0.16 sec\n",
      " ARIMA(0,2,0)(0,0,0)[0]             : AIC=2266.340, Time=0.01 sec\n",
      " ARIMA(1,2,0)(0,0,0)[0]             : AIC=2212.282, Time=0.02 sec\n",
      " ARIMA(0,2,1)(0,0,0)[0]             : AIC=2187.428, Time=0.04 sec\n",
      " ARIMA(1,2,1)(0,0,0)[0]             : AIC=2188.019, Time=0.08 sec\n",
      " ARIMA(0,2,2)(0,0,0)[0]             : AIC=2188.075, Time=0.06 sec\n",
      " ARIMA(1,2,2)(0,0,0)[0]             : AIC=2187.986, Time=0.13 sec\n",
      " ARIMA(0,2,1)(0,0,0)[0] intercept   : AIC=2189.428, Time=0.08 sec\n",
      "\n",
      "Best model:  ARIMA(0,2,1)(0,0,0)[0]          \n",
      "Total fit time: 0.606 seconds\n"
     ]
    }
   ],
   "source": [
    "step_fit_death = auto_arima(y=ytrain ,x=xtrain, trace= True, suppress_warnings=True)"
   ]
  },
  {
   "cell_type": "code",
   "execution_count": 73,
   "metadata": {},
   "outputs": [
    {
     "name": "stdout",
     "output_type": "stream",
     "text": [
      "Performing stepwise search to minimize aic\n",
      " ARIMA(2,2,2)(0,0,0)[0]             : AIC=2783.438, Time=0.25 sec\n",
      " ARIMA(0,2,0)(0,0,0)[0]             : AIC=2861.327, Time=0.01 sec\n",
      " ARIMA(1,2,0)(0,0,0)[0]             : AIC=2802.748, Time=0.02 sec\n",
      " ARIMA(0,2,1)(0,0,0)[0]             : AIC=2785.466, Time=0.03 sec\n",
      " ARIMA(1,2,2)(0,0,0)[0]             : AIC=2781.564, Time=0.11 sec\n",
      " ARIMA(0,2,2)(0,0,0)[0]             : AIC=2781.402, Time=0.08 sec\n",
      " ARIMA(0,2,3)(0,0,0)[0]             : AIC=2782.662, Time=0.12 sec\n",
      " ARIMA(1,2,1)(0,0,0)[0]             : AIC=2782.338, Time=0.03 sec\n",
      " ARIMA(1,2,3)(0,0,0)[0]             : AIC=2782.078, Time=0.21 sec\n",
      " ARIMA(0,2,2)(0,0,0)[0] intercept   : AIC=2783.400, Time=0.20 sec\n",
      "\n",
      "Best model:  ARIMA(0,2,2)(0,0,0)[0]          \n",
      "Total fit time: 1.055 seconds\n"
     ]
    }
   ],
   "source": [
    "step_fit_confirmed = auto_arima(y=ytrain2 ,x=xtrain, trace= True, suppress_warnings=True)"
   ]
  },
  {
   "cell_type": "code",
   "execution_count": 66,
   "metadata": {},
   "outputs": [
    {
     "name": "stderr",
     "output_type": "stream",
     "text": [
      "c:\\Users\\angel\\Desktop\\Data science\\venv_bootcamp2\\venv\\lib\\site-packages\\statsmodels\\tsa\\base\\tsa_model.py:471: ValueWarning: An unsupported index was provided and will be ignored when e.g. forecasting.\n",
      "  self._init_dates(dates, freq)\n",
      "c:\\Users\\angel\\Desktop\\Data science\\venv_bootcamp2\\venv\\lib\\site-packages\\statsmodels\\tsa\\base\\tsa_model.py:471: ValueWarning: An unsupported index was provided and will be ignored when e.g. forecasting.\n",
      "  self._init_dates(dates, freq)\n",
      "c:\\Users\\angel\\Desktop\\Data science\\venv_bootcamp2\\venv\\lib\\site-packages\\statsmodels\\tsa\\base\\tsa_model.py:471: ValueWarning: An unsupported index was provided and will be ignored when e.g. forecasting.\n",
      "  self._init_dates(dates, freq)\n"
     ]
    }
   ],
   "source": [
    "#modelo para mortes\n",
    "\n",
    "model = ARIMA(endog=ytrain, order= (0,2,1))\n",
    "model_fit = model.fit()"
   ]
  },
  {
   "cell_type": "code",
   "execution_count": 74,
   "metadata": {},
   "outputs": [
    {
     "name": "stderr",
     "output_type": "stream",
     "text": [
      "c:\\Users\\angel\\Desktop\\Data science\\venv_bootcamp2\\venv\\lib\\site-packages\\statsmodels\\tsa\\base\\tsa_model.py:471: ValueWarning: An unsupported index was provided and will be ignored when e.g. forecasting.\n",
      "  self._init_dates(dates, freq)\n",
      "c:\\Users\\angel\\Desktop\\Data science\\venv_bootcamp2\\venv\\lib\\site-packages\\statsmodels\\tsa\\base\\tsa_model.py:471: ValueWarning: An unsupported index was provided and will be ignored when e.g. forecasting.\n",
      "  self._init_dates(dates, freq)\n",
      "c:\\Users\\angel\\Desktop\\Data science\\venv_bootcamp2\\venv\\lib\\site-packages\\statsmodels\\tsa\\base\\tsa_model.py:471: ValueWarning: An unsupported index was provided and will be ignored when e.g. forecasting.\n",
      "  self._init_dates(dates, freq)\n"
     ]
    }
   ],
   "source": [
    "#modelo para casos confirmados\n",
    "\n",
    "model2 = ARIMA(endog=ytrain2, order= (0,2,2))\n",
    "model2_fit = model2.fit()"
   ]
  },
  {
   "attachments": {},
   "cell_type": "markdown",
   "metadata": {},
   "source": [
    "#   Predict"
   ]
  },
  {
   "cell_type": "code",
   "execution_count": 79,
   "metadata": {},
   "outputs": [
    {
     "name": "stderr",
     "output_type": "stream",
     "text": [
      "c:\\Users\\angel\\Desktop\\Data science\\venv_bootcamp2\\venv\\lib\\site-packages\\statsmodels\\tsa\\base\\tsa_model.py:834: ValueWarning: No supported index is available. Prediction results will be given with an integer index beginning at `start`.\n",
      "  return get_prediction_index(\n"
     ]
    }
   ],
   "source": [
    "pred_death = model_fit.forecast(27)  #avaliando os proximos 27 dias"
   ]
  },
  {
   "cell_type": "code",
   "execution_count": 77,
   "metadata": {},
   "outputs": [
    {
     "name": "stderr",
     "output_type": "stream",
     "text": [
      "c:\\Users\\angel\\Desktop\\Data science\\venv_bootcamp2\\venv\\lib\\site-packages\\statsmodels\\tsa\\base\\tsa_model.py:834: ValueWarning: No supported index is available. Prediction results will be given with an integer index beginning at `start`.\n",
      "  return get_prediction_index(\n"
     ]
    }
   ],
   "source": [
    "pred_confirmed = model2_fit.forecast(27) #avaliando os proximos 27 dias"
   ]
  },
  {
   "cell_type": "code",
   "execution_count": 80,
   "metadata": {},
   "outputs": [
    {
     "name": "stdout",
     "output_type": "stream",
     "text": [
      "174.704123716021\n"
     ]
    }
   ],
   "source": [
    "mae_death = mean_absolute_error(ytest, pred_death)\n",
    "print(mae_death)"
   ]
  },
  {
   "cell_type": "code",
   "execution_count": 82,
   "metadata": {},
   "outputs": [
    {
     "name": "stdout",
     "output_type": "stream",
     "text": [
      "5437.887931543182\n"
     ]
    }
   ],
   "source": [
    "mae_confirmed = mean_absolute_error(ytest2, pred_confirmed)\n",
    "print(mae_confirmed)"
   ]
  },
  {
   "attachments": {},
   "cell_type": "markdown",
   "metadata": {},
   "source": [
    "#   Visualização dos resultados"
   ]
  },
  {
   "cell_type": "code",
   "execution_count": 87,
   "metadata": {},
   "outputs": [
    {
     "data": {
      "text/plain": [
       "<matplotlib.legend.Legend at 0x22e70d31240>"
      ]
     },
     "execution_count": 87,
     "metadata": {},
     "output_type": "execute_result"
    },
    {
     "data": {
      "image/png": "[encoded data removed]",
      "text/plain": [
       "<Figure size 1000x600 with 1 Axes>"
      ]
     },
     "metadata": {},
     "output_type": "display_data"
    }
   ],
   "source": [
    "plt.figure(figsize=(10,6))\n",
    "plt.title('Comparação Predição e Valores Reais', fontsize=12)\n",
    "plt.plot(xtest,pred_death,label='Valor Predito')\n",
    "plt.plot(xtest,ytest,label='Real')\n",
    "plt.legend()"
   ]
  },
  {
   "cell_type": "code",
   "execution_count": 88,
   "metadata": {},
   "outputs": [
    {
     "data": {
      "text/plain": [
       "<matplotlib.legend.Legend at 0x22e73dd0730>"
      ]
     },
     "execution_count": 88,
     "metadata": {},
     "output_type": "execute_result"
    },
    {
     "data": {
      "image/png": "[encoded data removed]",
      "text/plain": [
       "<Figure size 1000x600 with 1 Axes>"
      ]
     },
     "metadata": {},
     "output_type": "display_data"
    }
   ],
   "source": [
    "plt.figure(figsize=(10,6))\n",
    "plt.title('Comparação Predição e Valores Reais', fontsize=12)\n",
    "plt.plot(xtest,pred_confirmed,label='Valor Predito')\n",
    "plt.plot(xtest,ytest2,label='Real')\n",
    "plt.legend()"
   ]
  }
 ],
 "metadata": {
  "kernelspec": {
   "display_name": "venv",
   "language": "python",
   "name": "python3"
  },
  "language_info": {
   "codemirror_mode": {
    "name": "ipython",
    "version": 3
   },
   "file_extension": ".py",
   "mimetype": "text/x-python",
   "name": "python",
   "nbconvert_exporter": "python",
   "pygments_lexer": "ipython3",
   "version": "3.10.8"
  },
  "orig_nbformat": 4,
  "vscode": {
   "interpreter": {
    "hash": "5068eddecc1b4bc6b73e21d9a9fc02684c9901819dc706059f4e8fa0560f2a47"
   }
  }
 },
 "nbformat": 4,
 "nbformat_minor": 2
}
