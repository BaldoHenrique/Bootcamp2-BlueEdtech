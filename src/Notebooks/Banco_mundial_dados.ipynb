{
 "cells": [
  {
   "cell_type": "code",
   "execution_count": 1,
   "metadata": {},
   "outputs": [],
   "source": [
    "import wbgapi as wb"
   ]
  },
  {
   "cell_type": "code",
   "execution_count": 114,
   "metadata": {},
   "outputs": [
    {
     "data": {
      "text/html": [
       "<div class=\"wbgapi\"><table>\n",
       "<thead>\n",
       "<tr><th>id                  </th><th>value                                            </th></tr>\n",
       "</thead>\n",
       "<tbody>\n",
       "<tr><td>FP.CPI.TOTL.ZG      </td><td>Inflation, consumer prices (annual %)            </td></tr>\n",
       "<tr><td>NY.GDP.DEFL.KD.ZG   </td><td>Inflation, GDP deflator (annual %)               </td></tr>\n",
       "<tr><td>NY.GDP.DEFL.KD.ZG.AD</td><td>Inflation, GDP deflator: linked series (annual %)</td></tr>\n",
       "<tr><td>                    </td><td>3 elements                                       </td></tr>\n",
       "</tbody>\n",
       "</table></div>"
      ],
      "text/plain": [
       "id                    value\n",
       "--------------------  -------------------------------------------------\n",
       "FP.CPI.TOTL.ZG        Inflation, consumer prices (annual %)\n",
       "NY.GDP.DEFL.KD.ZG     Inflation, GDP deflator (annual %)\n",
       "NY.GDP.DEFL.KD.ZG.AD  Inflation, GDP deflator: linked series (annual %)\n",
       "                      3 elements"
      ]
     },
     "execution_count": 114,
     "metadata": {},
     "output_type": "execute_result"
    }
   ],
   "source": [
    "wb.series.info(q=\"inflation\")"
   ]
  },
  {
   "cell_type": "code",
   "execution_count": 115,
   "metadata": {},
   "outputs": [
    {
     "data": {
      "text/html": [
       "<div>\n",
       "<style scoped>\n",
       "    .dataframe tbody tr th:only-of-type {\n",
       "        vertical-align: middle;\n",
       "    }\n",
       "\n",
       "    .dataframe tbody tr th {\n",
       "        vertical-align: top;\n",
       "    }\n",
       "\n",
       "    .dataframe thead th {\n",
       "        text-align: right;\n",
       "    }\n",
       "</style>\n",
       "<table border=\"1\" class=\"dataframe\">\n",
       "  <thead>\n",
       "    <tr style=\"text-align: right;\">\n",
       "      <th></th>\n",
       "      <th>YR2015</th>\n",
       "      <th>YR2016</th>\n",
       "      <th>YR2017</th>\n",
       "      <th>YR2018</th>\n",
       "      <th>YR2019</th>\n",
       "      <th>YR2020</th>\n",
       "      <th>YR2021</th>\n",
       "    </tr>\n",
       "    <tr>\n",
       "      <th>economy</th>\n",
       "      <th></th>\n",
       "      <th></th>\n",
       "      <th></th>\n",
       "      <th></th>\n",
       "      <th></th>\n",
       "      <th></th>\n",
       "      <th></th>\n",
       "    </tr>\n",
       "  </thead>\n",
       "  <tbody>\n",
       "    <tr>\n",
       "      <th>ESP</th>\n",
       "      <td>-0.500366</td>\n",
       "      <td>-0.202598</td>\n",
       "      <td>1.956076</td>\n",
       "      <td>1.674981</td>\n",
       "      <td>0.699519</td>\n",
       "      <td>-0.322753</td>\n",
       "      <td>3.093135</td>\n",
       "    </tr>\n",
       "  </tbody>\n",
       "</table>\n",
       "</div>"
      ],
      "text/plain": [
       "           YR2015    YR2016    YR2017    YR2018    YR2019    YR2020    YR2021\n",
       "economy                                                                      \n",
       "ESP     -0.500366 -0.202598  1.956076  1.674981  0.699519 -0.322753  3.093135"
      ]
     },
     "execution_count": 115,
     "metadata": {},
     "output_type": "execute_result"
    }
   ],
   "source": [
    "inflation = wb.data.DataFrame(\"FP.CPI.TOTL.ZG\", time=[2015,2016,2017,2018,2019,2020, 2021], economy=\"ESP\")"
   ]
  },
  {
   "cell_type": "code",
   "execution_count": 3,
   "metadata": {},
   "outputs": [
    {
     "data": {
      "text/html": [
       "<div>\n",
       "<style scoped>\n",
       "    .dataframe tbody tr th:only-of-type {\n",
       "        vertical-align: middle;\n",
       "    }\n",
       "\n",
       "    .dataframe tbody tr th {\n",
       "        vertical-align: top;\n",
       "    }\n",
       "\n",
       "    .dataframe thead th {\n",
       "        text-align: right;\n",
       "    }\n",
       "</style>\n",
       "<table border=\"1\" class=\"dataframe\">\n",
       "  <thead>\n",
       "    <tr style=\"text-align: right;\">\n",
       "      <th></th>\n",
       "      <th>YR2015</th>\n",
       "      <th>YR2016</th>\n",
       "      <th>YR2017</th>\n",
       "      <th>YR2018</th>\n",
       "      <th>YR2019</th>\n",
       "      <th>YR2020</th>\n",
       "      <th>YR2021</th>\n",
       "    </tr>\n",
       "    <tr>\n",
       "      <th>economy</th>\n",
       "      <th></th>\n",
       "      <th></th>\n",
       "      <th></th>\n",
       "      <th></th>\n",
       "      <th></th>\n",
       "      <th></th>\n",
       "      <th></th>\n",
       "    </tr>\n",
       "  </thead>\n",
       "  <tbody>\n",
       "    <tr>\n",
       "      <th>ESP</th>\n",
       "      <td>0.545556</td>\n",
       "      <td>0.322899</td>\n",
       "      <td>1.299555</td>\n",
       "      <td>1.245255</td>\n",
       "      <td>1.304657</td>\n",
       "      <td>1.103931</td>\n",
       "      <td>2.167463</td>\n",
       "    </tr>\n",
       "  </tbody>\n",
       "</table>\n",
       "</div>"
      ],
      "text/plain": [
       "           YR2015    YR2016    YR2017    YR2018    YR2019    YR2020    YR2021\n",
       "economy                                                                      \n",
       "ESP      0.545556  0.322899  1.299555  1.245255  1.304657  1.103931  2.167463"
      ]
     },
     "execution_count": 3,
     "metadata": {},
     "output_type": "execute_result"
    }
   ],
   "source": [
    "#analizar o que é GDP deflator (annual %).\n",
    "\n",
    "wb.data.DataFrame(\"NY.GDP.DEFL.KD.ZG\", time=[2015,2016,2017,2018,2019,2020, 2021], economy=\"ESP\")"
   ]
  },
  {
   "cell_type": "code",
   "execution_count": 8,
   "metadata": {},
   "outputs": [
    {
     "data": {
      "text/html": [
       "<div class=\"wbgapi\"><table>\n",
       "<thead>\n",
       "<tr><th>id                  </th><th>value                                                                    </th></tr>\n",
       "</thead>\n",
       "<tbody>\n",
       "<tr><td>EG.GDP.PUSE.KO.PP   </td><td>GDP per unit of energy use (PPP $ per kg of oil equivalent)              </td></tr>\n",
       "<tr><td>EG.GDP.PUSE.KO.PP.KD</td><td>GDP per unit of energy use (constant 2017 PPP $ per kg of oil equivalent)</td></tr>\n",
       "<tr><td>EG.USE.COMM.GD.PP.KD</td><td>Energy use (kg of oil equivalent) per $1,000 GDP (constant 2017 PPP)     </td></tr>\n",
       "<tr><td>NY.GDP.DEFL.KD.ZG   </td><td>Inflation, GDP deflator (annual %)                                       </td></tr>\n",
       "<tr><td>NY.GDP.DEFL.KD.ZG.AD</td><td>Inflation, GDP deflator: linked series (annual %)                        </td></tr>\n",
       "<tr><td>NY.GDP.DEFL.ZS      </td><td>GDP deflator (base year varies by country)                               </td></tr>\n",
       "<tr><td>NY.GDP.DEFL.ZS.AD   </td><td>GDP deflator: linked series (base year varies by country)                </td></tr>\n",
       "<tr><td>NY.GDP.DISC.CN      </td><td>Discrepancy in expenditure estimate of GDP (current LCU)                 </td></tr>\n",
       "<tr><td>NY.GDP.DISC.KN      </td><td>Discrepancy in expenditure estimate of GDP (constant LCU)                </td></tr>\n",
       "<tr><td>NY.GDP.MKTP.CD      </td><td>GDP (current US$)                                                        </td></tr>\n",
       "<tr><td>NY.GDP.MKTP.CN      </td><td>GDP (current LCU)                                                        </td></tr>\n",
       "<tr><td>NY.GDP.MKTP.CN.AD   </td><td>GDP: linked series (current LCU)                                         </td></tr>\n",
       "<tr><td>NY.GDP.MKTP.KD      </td><td>GDP (constant 2015 US$)                                                  </td></tr>\n",
       "<tr><td>NY.GDP.MKTP.KD.ZG   </td><td>GDP growth (annual %)                                                    </td></tr>\n",
       "<tr><td>NY.GDP.MKTP.KN      </td><td>GDP (constant LCU)                                                       </td></tr>\n",
       "<tr><td>NY.GDP.MKTP.PP.CD   </td><td>GDP, PPP (current international $)                                       </td></tr>\n",
       "<tr><td>NY.GDP.MKTP.PP.KD   </td><td>GDP, PPP (constant 2017 international $)                                 </td></tr>\n",
       "<tr><td>NY.GDP.PCAP.CD      </td><td>GDP per capita (current US$)                                             </td></tr>\n",
       "<tr><td>NY.GDP.PCAP.CN      </td><td>GDP per capita (current LCU)                                             </td></tr>\n",
       "<tr><td>NY.GDP.PCAP.KD      </td><td>GDP per capita (constant 2015 US$)                                       </td></tr>\n",
       "<tr><td>NY.GDP.PCAP.KD.ZG   </td><td>GDP per capita growth (annual %)                                         </td></tr>\n",
       "<tr><td>NY.GDP.PCAP.KN      </td><td>GDP per capita (constant LCU)                                            </td></tr>\n",
       "<tr><td>NY.GDP.PCAP.PP.CD   </td><td>GDP per capita, PPP (current international $)                            </td></tr>\n",
       "<tr><td>NY.GDP.PCAP.PP.KD   </td><td>GDP per capita, PPP (constant 2017 international $)                      </td></tr>\n",
       "<tr><td>PA.NUS.PPP          </td><td>PPP conversion factor, GDP (LCU per international $)                     </td></tr>\n",
       "<tr><td>PA.NUS.PPPC.RF      </td><td>Price level ratio of PPP conversion factor (GDP) to market exchange rate </td></tr>\n",
       "<tr><td>SL.GDP.PCAP.EM.KD   </td><td>GDP per person employed (constant 2017 PPP $)                            </td></tr>\n",
       "<tr><td>                    </td><td>27 elements                                                              </td></tr>\n",
       "</tbody>\n",
       "</table></div>"
      ],
      "text/plain": [
       "id                    value\n",
       "--------------------  -------------------------------------------------------------------------\n",
       "EG.GDP.PUSE.KO.PP     GDP per unit of energy use (PPP $ per kg of oil equivalent)\n",
       "EG.GDP.PUSE.KO.PP.KD  GDP per unit of energy use (constant 2017 PPP $ per kg of oil equivalent)\n",
       "EG.USE.COMM.GD.PP.KD  Energy use (kg of oil equivalent) per $1,000 GDP (constant 2017 PPP)\n",
       "NY.GDP.DEFL.KD.ZG     Inflation, GDP deflator (annual %)\n",
       "NY.GDP.DEFL.KD.ZG.AD  Inflation, GDP deflator: linked series (annual %)\n",
       "NY.GDP.DEFL.ZS        GDP deflator (base year varies by country)\n",
       "NY.GDP.DEFL.ZS.AD     GDP deflator: linked series (base year varies by country)\n",
       "NY.GDP.DISC.CN        Discrepancy in expenditure estimate of GDP (current LCU)\n",
       "NY.GDP.DISC.KN        Discrepancy in expenditure estimate of GDP (constant LCU)\n",
       "NY.GDP.MKTP.CD        GDP (current US$)\n",
       "NY.GDP.MKTP.CN        GDP (current LCU)\n",
       "NY.GDP.MKTP.CN.AD     GDP: linked series (current LCU)\n",
       "NY.GDP.MKTP.KD        GDP (constant 2015 US$)\n",
       "NY.GDP.MKTP.KD.ZG     GDP growth (annual %)\n",
       "NY.GDP.MKTP.KN        GDP (constant LCU)\n",
       "NY.GDP.MKTP.PP.CD     GDP, PPP (current international $)\n",
       "NY.GDP.MKTP.PP.KD     GDP, PPP (constant 2017 international $)\n",
       "NY.GDP.PCAP.CD        GDP per capita (current US$)\n",
       "NY.GDP.PCAP.CN        GDP per capita (current LCU)\n",
       "NY.GDP.PCAP.KD        GDP per capita (constant 2015 US$)\n",
       "NY.GDP.PCAP.KD.ZG     GDP per capita growth (annual %)\n",
       "NY.GDP.PCAP.KN        GDP per capita (constant LCU)\n",
       "NY.GDP.PCAP.PP.CD     GDP per capita, PPP (current international $)\n",
       "NY.GDP.PCAP.PP.KD     GDP per capita, PPP (constant 2017 international $)\n",
       "PA.NUS.PPP            PPP conversion factor, GDP (LCU per international $)\n",
       "PA.NUS.PPPC.RF        Price level ratio of PPP conversion factor (GDP) to market exchange rate\n",
       "SL.GDP.PCAP.EM.KD     GDP per person employed (constant 2017 PPP $)\n",
       "                      27 elements"
      ]
     },
     "execution_count": 8,
     "metadata": {},
     "output_type": "execute_result"
    }
   ],
   "source": [
    "wb.series.info(q=\"GDP\")"
   ]
  },
  {
   "cell_type": "code",
   "execution_count": 107,
   "metadata": {},
   "outputs": [],
   "source": [
    "df = wb.data.DataFrame(\"NY.GDP.MKTP.KD.ZG\", time=[2015,2016,2017,2018,2019,2020, 2021], economy=\"ESP\")"
   ]
  },
  {
   "cell_type": "code",
   "execution_count": 109,
   "metadata": {},
   "outputs": [],
   "source": [
    "df = df.reset_index()"
   ]
  },
  {
   "cell_type": "code",
   "execution_count": 110,
   "metadata": {},
   "outputs": [
    {
     "data": {
      "text/html": [
       "<div>\n",
       "<style scoped>\n",
       "    .dataframe tbody tr th:only-of-type {\n",
       "        vertical-align: middle;\n",
       "    }\n",
       "\n",
       "    .dataframe tbody tr th {\n",
       "        vertical-align: top;\n",
       "    }\n",
       "\n",
       "    .dataframe thead th {\n",
       "        text-align: right;\n",
       "    }\n",
       "</style>\n",
       "<table border=\"1\" class=\"dataframe\">\n",
       "  <thead>\n",
       "    <tr style=\"text-align: right;\">\n",
       "      <th></th>\n",
       "      <th>economy</th>\n",
       "      <th>YR2015</th>\n",
       "      <th>YR2016</th>\n",
       "      <th>YR2017</th>\n",
       "      <th>YR2018</th>\n",
       "      <th>YR2019</th>\n",
       "      <th>YR2020</th>\n",
       "      <th>YR2021</th>\n",
       "    </tr>\n",
       "  </thead>\n",
       "  <tbody>\n",
       "    <tr>\n",
       "      <th>0</th>\n",
       "      <td>ESP</td>\n",
       "      <td>3.835173</td>\n",
       "      <td>3.031301</td>\n",
       "      <td>2.973641</td>\n",
       "      <td>2.288786</td>\n",
       "      <td>2.085191</td>\n",
       "      <td>-10.822886</td>\n",
       "      <td>5.129455</td>\n",
       "    </tr>\n",
       "  </tbody>\n",
       "</table>\n",
       "</div>"
      ],
      "text/plain": [
       "  economy    YR2015    YR2016    YR2017    YR2018    YR2019     YR2020  \\\n",
       "0     ESP  3.835173  3.031301  2.973641  2.288786  2.085191 -10.822886   \n",
       "\n",
       "     YR2021  \n",
       "0  5.129455  "
      ]
     },
     "execution_count": 110,
     "metadata": {},
     "output_type": "execute_result"
    }
   ],
   "source": [
    "df"
   ]
  },
  {
   "cell_type": "code",
   "execution_count": 111,
   "metadata": {},
   "outputs": [],
   "source": [
    "df2 = df.set_index('economy').T"
   ]
  },
  {
   "cell_type": "code",
   "execution_count": 112,
   "metadata": {},
   "outputs": [
    {
     "data": {
      "text/html": [
       "<div>\n",
       "<style scoped>\n",
       "    .dataframe tbody tr th:only-of-type {\n",
       "        vertical-align: middle;\n",
       "    }\n",
       "\n",
       "    .dataframe tbody tr th {\n",
       "        vertical-align: top;\n",
       "    }\n",
       "\n",
       "    .dataframe thead th {\n",
       "        text-align: right;\n",
       "    }\n",
       "</style>\n",
       "<table border=\"1\" class=\"dataframe\">\n",
       "  <thead>\n",
       "    <tr style=\"text-align: right;\">\n",
       "      <th>economy</th>\n",
       "      <th>ESP</th>\n",
       "    </tr>\n",
       "  </thead>\n",
       "  <tbody>\n",
       "    <tr>\n",
       "      <th>YR2015</th>\n",
       "      <td>3.835173</td>\n",
       "    </tr>\n",
       "    <tr>\n",
       "      <th>YR2016</th>\n",
       "      <td>3.031301</td>\n",
       "    </tr>\n",
       "    <tr>\n",
       "      <th>YR2017</th>\n",
       "      <td>2.973641</td>\n",
       "    </tr>\n",
       "    <tr>\n",
       "      <th>YR2018</th>\n",
       "      <td>2.288786</td>\n",
       "    </tr>\n",
       "    <tr>\n",
       "      <th>YR2019</th>\n",
       "      <td>2.085191</td>\n",
       "    </tr>\n",
       "    <tr>\n",
       "      <th>YR2020</th>\n",
       "      <td>-10.822886</td>\n",
       "    </tr>\n",
       "    <tr>\n",
       "      <th>YR2021</th>\n",
       "      <td>5.129455</td>\n",
       "    </tr>\n",
       "  </tbody>\n",
       "</table>\n",
       "</div>"
      ],
      "text/plain": [
       "economy        ESP\n",
       "YR2015    3.835173\n",
       "YR2016    3.031301\n",
       "YR2017    2.973641\n",
       "YR2018    2.288786\n",
       "YR2019    2.085191\n",
       "YR2020  -10.822886\n",
       "YR2021    5.129455"
      ]
     },
     "execution_count": 112,
     "metadata": {},
     "output_type": "execute_result"
    }
   ],
   "source": [
    "df2"
   ]
  },
  {
   "cell_type": "code",
   "execution_count": 76,
   "metadata": {},
   "outputs": [],
   "source": [
    "import seaborn as sns\n",
    "import matplotlib.pyplot as plt"
   ]
  },
  {
   "cell_type": "code",
   "execution_count": 113,
   "metadata": {},
   "outputs": [
    {
     "data": {
      "text/plain": [
       "<AxesSubplot: >"
      ]
     },
     "execution_count": 113,
     "metadata": {},
     "output_type": "execute_result"
    },
    {
     "data": {
      "image/png": "[encoded data removed]",
      "text/plain": [
       "<Figure size 640x480 with 1 Axes>"
      ]
     },
     "metadata": {},
     "output_type": "display_data"
    }
   ],
   "source": [
    "sns.lineplot(data=df2)"
   ]
  }
 ],
 "metadata": {
  "kernelspec": {
   "display_name": "Python 3.10.8 64-bit",
   "language": "python",
   "name": "python3"
  },
  "language_info": {
   "codemirror_mode": {
    "name": "ipython",
    "version": 3
   },
   "file_extension": ".py",
   "mimetype": "text/x-python",
   "name": "python",
   "nbconvert_exporter": "python",
   "pygments_lexer": "ipython3",
   "version": "3.10.8"
  },
  "orig_nbformat": 4,
  "vscode": {
   "interpreter": {
    "hash": "91555e203e11ede8496fb03363e909d37d72bb051c20872b508296bfc889c327"
   }
  }
 },
 "nbformat": 4,
 "nbformat_minor": 2
}
